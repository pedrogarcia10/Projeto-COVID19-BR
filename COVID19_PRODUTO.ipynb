{
 "cells": [
  {
   "cell_type": "markdown",
   "metadata": {},
   "source": [
    "## Import"
   ]
  },
  {
   "cell_type": "code",
   "execution_count": 4,
   "metadata": {},
   "outputs": [],
   "source": [
    "import pandas as pd\n",
    "import joblib\n",
    "import datetime"
   ]
  },
  {
   "cell_type": "markdown",
   "metadata": {},
   "source": [
    "## Load Data"
   ]
  },
  {
   "cell_type": "code",
   "execution_count": 64,
   "metadata": {},
   "outputs": [],
   "source": [
    "records = [(datetime.date(2020, 4, 17), 'RO', 92), (datetime.date(2020, 4, 17), 'AC', 135), (datetime.date(2020, 4, 17), 'AM', 1809),\n",
    "           (datetime.date(2020, 4, 17), 'RR', 164), (datetime.date(2020, 4, 17), 'PA', 557), (datetime.date(2020, 4, 17), 'AP', 370),\n",
    "           (datetime.date(2020, 4, 17), 'TO', 31), (datetime.date(2020, 4, 17), 'MA', 797), (datetime.date(2020, 4, 17), 'PI', 102),\n",
    "           (datetime.date(2020, 4, 17), 'CE', 2684), (datetime.date(2020, 4, 17), 'RN', 463), (datetime.date(2020, 4, 17), 'PB', 195),\n",
    "           (datetime.date(2020, 4, 17), 'PE', 2006), (datetime.date(2020, 4, 17), 'AL', 110), (datetime.date(2020, 4, 17), 'SE', 53),\n",
    "           (datetime.date(2020, 4, 17), 'BA', 1059), (datetime.date(2020, 4, 17), 'MG', 1021), (datetime.date(2020, 4, 17), 'ES', 856),\n",
    "           (datetime.date(2020, 4, 17), 'RJ', 4349), (datetime.date(2020, 4, 17), 'SP', 12841), (datetime.date(2020, 4, 17), 'PR', 874),\n",
    "           (datetime.date(2020, 4, 17), 'SC', 926), (datetime.date(2020, 4, 17), 'RS', 802), (datetime.date(2020, 4, 17), 'MS', 143),\n",
    "           (datetime.date(2020, 4, 17), 'MT', 162), (datetime.date(2020, 4, 17), 'GO', 335), (datetime.date(2020, 4, 17), 'DF', 746)]"
   ]
  },
  {
   "cell_type": "markdown",
   "metadata": {},
   "source": [
    "## Load Model"
   ]
  },
  {
   "cell_type": "code",
   "execution_count": 6,
   "metadata": {},
   "outputs": [
    {
     "data": {
      "text/plain": [
       "Ridge(alpha=0.03, copy_X=True, fit_intercept=True, max_iter=None,\n",
       "      normalize=True, random_state=0, solver='auto', tol=0.001)"
      ]
     },
     "execution_count": 6,
     "metadata": {},
     "output_type": "execute_result"
    }
   ],
   "source": [
    "#Carregando o modelo\n",
    "model = joblib.load(\"model_RID.pkl\")\n",
    "model"
   ]
  },
  {
   "cell_type": "markdown",
   "metadata": {},
   "source": [
    "## Forecast"
   ]
  },
  {
   "cell_type": "code",
   "execution_count": 65,
   "metadata": {},
   "outputs": [],
   "source": [
    "#Definindo o número de dias para previsão\n",
    "dias = 1\n",
    "#Criando range de datas para forecast\n",
    "datas = pd.date_range(records[0][0],periods=dias+1)\n",
    "\n",
    "#Previsão para o dia seguinte\n",
    "output = []\n",
    "\n",
    "for uf in range(0,len(records)):\n",
    "    \n",
    "    for dia in range(0,dias):\n",
    "        \n",
    "        #Features do modelo em ordem de implementação no predict\n",
    "        #'Cases_Last_Day', 'UF_CAT_TO', 'UF_CAT_SE', 'UF_CAT_AL', 'UF_CAT_RO',\n",
    "        #'UF_CAT_GO', 'UF_CAT_MS', 'UF_CAT_PI', 'UF_CAT_AC', 'UF_CAT_PR'\n",
    "        cld = records[uf][2]\n",
    "        to = 1 if records[uf][1] == 'TO' else 0\n",
    "        se = 1 if records[uf][1] == 'SE' else 0\n",
    "        al = 1 if records[uf][1] == 'AL' else 0\n",
    "        ro = 1 if records[uf][1] == 'RO' else 0\n",
    "        go = 1 if records[uf][1] == 'GO' else 0\n",
    "        ms = 1 if records[uf][1] == 'MS' else 0\n",
    "        pi = 1 if records[uf][1] == 'PI' else 0\n",
    "        ac = 1 if records[uf][1] == 'AC' else 0\n",
    "        pr = 1 if records[uf][1] == 'PR' else 0\n",
    "\n",
    "        pred = model.predict([[cld,to,se,al,ro,go,ms,pi,ac,pr]])[0]\n",
    "                \n",
    "    new_records = (datas[dia+1].date(),records[uf][1],pred.round().astype(int))\n",
    "    output.append(new_records)"
   ]
  },
  {
   "cell_type": "code",
   "execution_count": 67,
   "metadata": {},
   "outputs": [
    {
     "data": {
      "text/plain": [
       "[(datetime.date(2020, 4, 18), 'RO', 97),\n",
       " (datetime.date(2020, 4, 18), 'AC', 142),\n",
       " (datetime.date(2020, 4, 18), 'AM', 1902),\n",
       " (datetime.date(2020, 4, 18), 'RR', 182),\n",
       " (datetime.date(2020, 4, 18), 'PA', 593),\n",
       " (datetime.date(2020, 4, 18), 'AP', 397),\n",
       " (datetime.date(2020, 4, 18), 'TO', 33),\n",
       " (datetime.date(2020, 4, 18), 'MA', 844),\n",
       " (datetime.date(2020, 4, 18), 'PI', 107),\n",
       " (datetime.date(2020, 4, 18), 'CE', 2818),\n",
       " (datetime.date(2020, 4, 18), 'RN', 494),\n",
       " (datetime.date(2020, 4, 18), 'PB', 214),\n",
       " (datetime.date(2020, 4, 18), 'PE', 2108),\n",
       " (datetime.date(2020, 4, 18), 'AL', 116),\n",
       " (datetime.date(2020, 4, 18), 'SE', 56),\n",
       " (datetime.date(2020, 4, 18), 'BA', 1118),\n",
       " (datetime.date(2020, 4, 18), 'MG', 1078),\n",
       " (datetime.date(2020, 4, 18), 'ES', 905),\n",
       " (datetime.date(2020, 4, 18), 'RJ', 4559),\n",
       " (datetime.date(2020, 4, 18), 'SP', 13443),\n",
       " (datetime.date(2020, 4, 18), 'PR', 920),\n",
       " (datetime.date(2020, 4, 18), 'SC', 979),\n",
       " (datetime.date(2020, 4, 18), 'RS', 849),\n",
       " (datetime.date(2020, 4, 18), 'MS', 151),\n",
       " (datetime.date(2020, 4, 18), 'MT', 179),\n",
       " (datetime.date(2020, 4, 18), 'GO', 353),\n",
       " (datetime.date(2020, 4, 18), 'DF', 790)]"
      ]
     },
     "execution_count": 67,
     "metadata": {},
     "output_type": "execute_result"
    }
   ],
   "source": [
    "output"
   ]
  }
 ],
 "metadata": {
  "kernelspec": {
   "display_name": "Python 3",
   "language": "python",
   "name": "python3"
  },
  "language_info": {
   "codemirror_mode": {
    "name": "ipython",
    "version": 3
   },
   "file_extension": ".py",
   "mimetype": "text/x-python",
   "name": "python",
   "nbconvert_exporter": "python",
   "pygments_lexer": "ipython3",
   "version": "3.6.5"
  }
 },
 "nbformat": 4,
 "nbformat_minor": 4
}
