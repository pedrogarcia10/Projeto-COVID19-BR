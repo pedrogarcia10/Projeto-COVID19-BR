{
 "cells": [
  {
   "cell_type": "markdown",
   "metadata": {},
   "source": [
    "# Previsão da Progressão dos Casos Confirmados de COVID19 por Estado no Brasil"
   ]
  },
  {
   "cell_type": "markdown",
   "metadata": {},
   "source": [
    "### "
   ]
  },
  {
   "cell_type": "markdown",
   "metadata": {},
   "source": [
    "# Importando Módulos"
   ]
  },
  {
   "cell_type": "code",
   "execution_count": 1,
   "metadata": {},
   "outputs": [
    {
     "name": "stdout",
     "output_type": "stream",
     "text": [
      "Wall time: 3.56 s\n"
     ]
    },
    {
     "name": "stderr",
     "output_type": "stream",
     "text": [
      "C:\\Users\\KÁTIA\\Anaconda3\\lib\\site-packages\\sklearn\\externals\\joblib\\__init__.py:15: FutureWarning: sklearn.externals.joblib is deprecated in 0.21 and will be removed in 0.23. Please import this functionality directly from joblib, which can be installed with: pip install joblib. If this warning is raised when loading pickled models, you may need to re-serialize those models with scikit-learn 0.21+.\n",
      "  warnings.warn(msg, category=FutureWarning)\n"
     ]
    }
   ],
   "source": [
    "%%time\n",
    "#Data Wrangling\n",
    "from datetime import datetime as dt\n",
    "import pandas as pd\n",
    "import numpy as np\n",
    "\n",
    "#Data Transform\n",
    "from category_encoders import OneHotEncoder\n",
    "\n",
    "#Web Scraping\n",
    "from tabulate import tabulate\n",
    "import urllib.request\n",
    "from bs4 import BeautifulSoup\n",
    "import requests\n",
    "\n",
    "#Machine Learning - Algorithms\n",
    "from sklearn.linear_model import Ridge\n",
    "\n",
    "#Machine Learning - Save\n",
    "from sklearn.externals import joblib"
   ]
  },
  {
   "cell_type": "markdown",
   "metadata": {},
   "source": [
    "# Data Processing"
   ]
  },
  {
   "cell_type": "code",
   "execution_count": 2,
   "metadata": {},
   "outputs": [
    {
     "name": "stdout",
     "output_type": "stream",
     "text": [
      "Wall time: 82 ms\n"
     ]
    }
   ],
   "source": [
    "%%time\n",
    "#Carregando Dados\n",
    "df = pd.read_csv(\"C:/Users/KÁTIA/Desktop/EVOLUTION 2020/COVID/UPDATE/brazil_covid19.csv\",sep=',')\n",
    "\n",
    "#Removendo coluna 'region'\n",
    "df=df.drop(columns='region')\n",
    "\n",
    "#Convertendo 'date' de string para datetime\n",
    "df.date=pd.to_datetime(df.date)\n",
    "\n",
    "#Ordenando dartagrame por estado e data\n",
    "df=df.sort_values(by=['state','date'])\n",
    "\n",
    "df"
   ]
  },
  {
   "cell_type": "markdown",
   "metadata": {},
   "source": [
    "## Incluindo a UF e região de cada estado"
   ]
  },
  {
   "cell_type": "code",
   "execution_count": 3,
   "metadata": {},
   "outputs": [
    {
     "name": "stdout",
     "output_type": "stream",
     "text": [
      "Wall time: 816 ms\n"
     ]
    }
   ],
   "source": [
    "%%time\n",
    "#Retirando dados da web\n",
    "res=requests.get('https://www.estadosecapitaisdobrasil.com/')\n",
    "soup = BeautifulSoup(res.content,'lxml')\n",
    "table = soup.find_all('table')[0]\n",
    "\n",
    "#Criando dataframe\n",
    "uf_reg = pd.read_html(str(table))\n",
    "uf_reg=pd.DataFrame(uf_reg)\n",
    "uf_reg=uf_reg[0][0]\n",
    "uf_reg.head(2)"
   ]
  },
  {
   "cell_type": "code",
   "execution_count": 4,
   "metadata": {},
   "outputs": [
    {
     "name": "stdout",
     "output_type": "stream",
     "text": [
      "Wall time: 9 ms\n"
     ]
    }
   ],
   "source": [
    "%%time\n",
    "#Renomeando e definindo com índice a coluna chave do dataframe\n",
    "uf_reg=uf_reg.rename(columns={'Estado':'state','Sigla':'UF'})\n",
    "uf_reg=uf_reg.set_index(uf_reg.state)\n",
    "\n",
    "#Juntando os datasets\n",
    "df=df.merge(uf_reg[['Região','UF']],how=\"left\",on='state')\n",
    "df"
   ]
  },
  {
   "cell_type": "markdown",
   "metadata": {},
   "source": [
    "## Criando variável 'Day'\n",
    "### Para contabilizar o número de dias após o primeiro caso suspeito"
   ]
  },
  {
   "cell_type": "code",
   "execution_count": 5,
   "metadata": {},
   "outputs": [
    {
     "name": "stdout",
     "output_type": "stream",
     "text": [
      "Wall time: 57 ms\n"
     ]
    }
   ],
   "source": [
    "%%time\n",
    "#Datas únicas de forma ordenada\n",
    "df.date.unique()\n",
    "\n",
    "#Criando dataframe\n",
    "start=pd.DataFrame(np.arange(1,len(df.date.unique())+1),index=df.date.unique(),columns=['Day'])\n",
    "start.index.name='date'\n",
    "\n",
    "#Juntando os dataframes\n",
    "df=df.merge(start['Day'], how='left', on='date')\n",
    "df"
   ]
  },
  {
   "cell_type": "markdown",
   "metadata": {},
   "source": [
    "# "
   ]
  },
  {
   "cell_type": "markdown",
   "metadata": {},
   "source": [
    "# Save and Load Data"
   ]
  },
  {
   "cell_type": "code",
   "execution_count": 6,
   "metadata": {},
   "outputs": [
    {
     "name": "stdout",
     "output_type": "stream",
     "text": [
      "Wall time: 290 ms\n"
     ]
    }
   ],
   "source": [
    "%%time\n",
    "#Salvando os dados\n",
    "df.to_csv('teste_produto.csv',sep=';',index=False)\n",
    "\n",
    "#Carregando o dataset\n",
    "df=pd.read_csv('teste_produto.csv',sep=';')\n",
    "#Convertendo 'date' de string para datetime\n",
    "df.date=pd.to_datetime(df.date)\n",
    "df.tail(5)"
   ]
  },
  {
   "cell_type": "markdown",
   "metadata": {},
   "source": [
    "# "
   ]
  },
  {
   "cell_type": "markdown",
   "metadata": {},
   "source": [
    "# Feature Engineering"
   ]
  },
  {
   "cell_type": "code",
   "execution_count": 7,
   "metadata": {},
   "outputs": [
    {
     "name": "stdout",
     "output_type": "stream",
     "text": [
      "Wall time: 62 ms\n"
     ]
    }
   ],
   "source": [
    "%%time\n",
    "#Copiando dataframe original\n",
    "date_state=df.copy()\n",
    "\n",
    "#Relacionadas ao dia anterior (d-1)\n",
    "#Número de Casos Confirmados por Estado\n",
    "date_state['Cases_Last_Day']=date_state.groupby(['state']).cases.shift()\n",
    "\n",
    "#Criando novas colunas para transformação\n",
    "date_state['UF_CAT']=date_state.UF\n",
    "\n",
    "#Transformando as variáveis\n",
    "ohe_uf = OneHotEncoder(cols=['UF_CAT'],use_cat_names=True,drop_invariant=True)\n",
    "date_state = ohe_uf.fit_transform(date_state)\n",
    "\n",
    "date_state"
   ]
  },
  {
   "cell_type": "markdown",
   "metadata": {},
   "source": [
    "# "
   ]
  },
  {
   "cell_type": "markdown",
   "metadata": {},
   "source": [
    "# Save and Load Data"
   ]
  },
  {
   "cell_type": "code",
   "execution_count": 8,
   "metadata": {},
   "outputs": [
    {
     "name": "stdout",
     "output_type": "stream",
     "text": [
      "Wall time: 125 ms\n"
     ]
    }
   ],
   "source": [
    "%%time\n",
    "#Salvando os dados\n",
    "date_state.to_csv('teste_produto.csv',sep=';',index=False)\n",
    "\n",
    "#Carregando os dados\n",
    "date_state=pd.read_csv('teste_produto.csv',sep=';')\n",
    "#Convertendo date de string para datetime\n",
    "date_state.date = pd.to_datetime(date_state.date)\n",
    "#Substituindo dados nulos por 0\n",
    "date_state=date_state.fillna(0)\n",
    "\n",
    "#Verificando o shape do dataset\n",
    "date_state.shape"
   ]
  },
  {
   "cell_type": "markdown",
   "metadata": {},
   "source": [
    "# "
   ]
  },
  {
   "cell_type": "markdown",
   "metadata": {},
   "source": [
    "# Modelagem\n",
    "## Data Validation"
   ]
  },
  {
   "cell_type": "code",
   "execution_count": 9,
   "metadata": {},
   "outputs": [
    {
     "name": "stdout",
     "output_type": "stream",
     "text": [
      "Wall time: 1 ms\n"
     ]
    },
    {
     "data": {
      "text/plain": [
       "80"
      ]
     },
     "execution_count": 9,
     "metadata": {},
     "output_type": "execute_result"
    }
   ],
   "source": [
    "%%time\n",
    "#Último dia\n",
    "date_state.Day.max()"
   ]
  },
  {
   "cell_type": "code",
   "execution_count": 10,
   "metadata": {},
   "outputs": [
    {
     "name": "stdout",
     "output_type": "stream",
     "text": [
      "Dados de Validação: 40.00%\n",
      "Wall time: 10 ms\n"
     ]
    }
   ],
   "source": [
    "%%time\n",
    "#Divisão dos dados\n",
    "#Dias de início e fim, respecivamente\n",
    "mn, mx = date_state.Day.max()-31 , date_state.Day.max()\n",
    "\n",
    "#Visualizando a proporção inicial de treino e validação\n",
    "date_state[date_state['Day']<mn].shape\n",
    "date_state[date_state['Day']>=mn].shape[0]\n",
    "print(\"Dados de Validação: {:.2f}%\".format(date_state[date_state['Day']>=mn].shape[0]/(date_state.shape[0])*100))"
   ]
  },
  {
   "cell_type": "markdown",
   "metadata": {},
   "source": [
    "# Métricas"
   ]
  },
  {
   "cell_type": "code",
   "execution_count": 11,
   "metadata": {},
   "outputs": [
    {
     "name": "stdout",
     "output_type": "stream",
     "text": [
      "Wall time: 0 ns\n"
     ]
    }
   ],
   "source": [
    "%%time\n",
    "#Criando métricas utilizando funções\n",
    "\n",
    "#Root Mean Squared Logarithmic Error\n",
    "def RMSLE(pred,target):\n",
    "    \n",
    "    pred=np.array(pred)\n",
    "    target=np.array(target)\n",
    "    \n",
    "    return np.sqrt(np.mean((np.log1p(abs(pred))-np.log1p(abs(target)))**2))"
   ]
  },
  {
   "cell_type": "markdown",
   "metadata": {},
   "source": [
    "# "
   ]
  },
  {
   "cell_type": "markdown",
   "metadata": {},
   "source": [
    "# Modelagem"
   ]
  },
  {
   "cell_type": "code",
   "execution_count": 12,
   "metadata": {},
   "outputs": [
    {
     "name": "stdout",
     "output_type": "stream",
     "text": [
      "Wall time: 0 ns\n"
     ]
    },
    {
     "data": {
      "text/plain": [
       "array(['date', 'state', 'cases', 'deaths', 'Região', 'UF', 'Day',\n",
       "       'Cases_Last_Day', 'UF_CAT_AC', 'UF_CAT_AL', 'UF_CAT_AP',\n",
       "       'UF_CAT_AM', 'UF_CAT_BA', 'UF_CAT_CE', 'UF_CAT_DF', 'UF_CAT_ES',\n",
       "       'UF_CAT_GO', 'UF_CAT_MA', 'UF_CAT_MT', 'UF_CAT_MS', 'UF_CAT_MG',\n",
       "       'UF_CAT_PR', 'UF_CAT_PB', 'UF_CAT_PA', 'UF_CAT_PE', 'UF_CAT_PI',\n",
       "       'UF_CAT_RN', 'UF_CAT_RS', 'UF_CAT_RJ', 'UF_CAT_RO', 'UF_CAT_RR',\n",
       "       'UF_CAT_SC', 'UF_CAT_SE', 'UF_CAT_SP', 'UF_CAT_TO'], dtype=object)"
      ]
     },
     "execution_count": 12,
     "metadata": {},
     "output_type": "execute_result"
    }
   ],
   "source": [
    "%%time\n",
    "#Visualizando variáveis finais do dataset\n",
    "date_state.columns.values"
   ]
  },
  {
   "cell_type": "code",
   "execution_count": 13,
   "metadata": {},
   "outputs": [
    {
     "name": "stdout",
     "output_type": "stream",
     "text": [
      "Wall time: 0 ns\n"
     ]
    }
   ],
   "source": [
    "%%time\n",
    "#Selecionando as features necessárias\n",
    "features = ['Cases_Last_Day', 'UF_CAT_TO', 'UF_CAT_SE', 'UF_CAT_AL', 'UF_CAT_MS', 'UF_CAT_GO', 'UF_CAT_AC']\n",
    "#Quantidade selecionada\n",
    "len(features)"
   ]
  },
  {
   "cell_type": "markdown",
   "metadata": {},
   "source": [
    "## Ridge Regressor"
   ]
  },
  {
   "cell_type": "code",
   "execution_count": 14,
   "metadata": {},
   "outputs": [
    {
     "name": "stdout",
     "output_type": "stream",
     "text": [
      "\n",
      "RID\n",
      "Média do Erro RMSLE: 0.1517\n",
      "Wall time: 930 ms\n"
     ]
    }
   ],
   "source": [
    "%%time\n",
    "models=[Ridge(random_state=0,alpha=0.01,normalize=True,fit_intercept=True)]\n",
    "\n",
    "name_mod=['RID']\n",
    "\n",
    "feat_mod = [features]\n",
    "\n",
    "for num in range(0,len(models)):\n",
    "    \n",
    "    error2=[]\n",
    "    \n",
    "    for i in range(mn,mx+1):\n",
    "        if date_state[date_state['Day']==i].shape[0] !=0:\n",
    "\n",
    "            train=date_state[date_state['Day']<i]\n",
    "            test=date_state[date_state['Day']==i]\n",
    "\n",
    "            sel=feat_mod[num]\n",
    "            X_train=train.loc[:,sel].values\n",
    "            y_train=train['cases'].values\n",
    "            X_test=test.loc[:,sel].values\n",
    "            y_test=test['cases'].values\n",
    "\n",
    "            model=models[num]\n",
    "            model.fit(X_train,y_train)\n",
    "\n",
    "            y_pred=model.predict(X_test)\n",
    "                \n",
    "            e2 = RMSLE(y_pred,y_test)\n",
    "            error2.append(e2)              \n",
    "\n",
    "    #Imprimir mensagem para cada algorimo mostrando os scores\n",
    "    print(\"\\n{}\\nMédia do Erro RMSLE: {:.4f}\".format(name_mod[num],np.mean(error2)))\n",
    "    \n",
    "    #Salvando o modelo\n",
    "    joblib.dump(model,'model_{}.pkl'.format(name_mod[num]))"
   ]
  },
  {
   "cell_type": "markdown",
   "metadata": {},
   "source": [
    "## Load Model"
   ]
  },
  {
   "cell_type": "code",
   "execution_count": 15,
   "metadata": {},
   "outputs": [
    {
     "name": "stdout",
     "output_type": "stream",
     "text": [
      "Ridge(alpha=0.01, copy_X=True, fit_intercept=True, max_iter=None,\n",
      "      normalize=True, random_state=0, solver='auto', tol=0.001) \n",
      "\n",
      " [ 1.07675726 -5.70592708 -5.77462128 -5.12253634 -5.58068256 -4.68725024\n",
      " -5.29508261]\n",
      "Wall time: 12 ms\n"
     ]
    }
   ],
   "source": [
    "%%time\n",
    "#Carregando e visualizando os parâmetros do modelo\n",
    "model=joblib.load('model_RID.pkl')\n",
    "print(model,'\\n\\n',model.coef_)"
   ]
  }
 ],
 "metadata": {
  "kernelspec": {
   "display_name": "Python 3",
   "language": "python",
   "name": "python3"
  },
  "language_info": {
   "codemirror_mode": {
    "name": "ipython",
    "version": 3
   },
   "file_extension": ".py",
   "mimetype": "text/x-python",
   "name": "python",
   "nbconvert_exporter": "python",
   "pygments_lexer": "ipython3",
   "version": "3.6.5"
  }
 },
 "nbformat": 4,
 "nbformat_minor": 4
}
